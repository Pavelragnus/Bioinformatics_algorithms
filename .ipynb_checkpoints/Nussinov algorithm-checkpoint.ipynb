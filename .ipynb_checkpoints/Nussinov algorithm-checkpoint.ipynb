{
 "cells": [
  {
   "cell_type": "code",
   "execution_count": 3,
   "id": "9220a2d6-ca60-454c-93c9-d6efe24972a1",
   "metadata": {},
   "outputs": [
    {
     "name": "stdin",
     "output_type": "stream",
     "text": [
      " AAACAUGAGGAUUACCCAUGU\n"
     ]
    },
    {
     "name": "stdout",
     "output_type": "stream",
     "text": [
      "1 21 4 20 5 19 6 18 7 17 9 16 10 15\n"
     ]
    }
   ],
   "source": [
    "rna=input(str())\n",
    "rna=list(rna)\n",
    "def bases(i,j):\n",
    "    pair={i,j}\n",
    "    if pair=={'A','U'} or pair=={'G','C'}:\n",
    "        return 1\n",
    "    else:\n",
    "        return 0\n",
    "def bases2(i,j):\n",
    "    pair={rna[i],rna[j]}\n",
    "    if pair=={'A','U'} or pair=={'G','C'}:\n",
    "        return 1\n",
    "    else:\n",
    "        return 0    \n",
    "def Num_nussing(r):\n",
    "    n=len(r)\n",
    "    F = [[0 for x in range(n+1)] for x in range(n+1)] \n",
    "    k=1\n",
    "    for i in r:\n",
    "        F[0][k]=i\n",
    "        k+=1\n",
    "    k=1\n",
    "    for i in r:\n",
    "        F[k][0]=i\n",
    "        k+=1\n",
    "    for L in range (2,n+1):\n",
    "        for i in range (1,n+1-L):\n",
    "            j=i+L\n",
    "            if j-i>=4:\n",
    "                case1=F[i+1][j-1]+bases(F[0][j],F[i][0]);\n",
    "                case2=F[i+1][j];\n",
    "                case3=F[i][j-1];\n",
    "                case4=0;\n",
    "                seq=[];\n",
    "                for k in range(i+1,j):\n",
    "                    seq.append(F[i][k]+F[k+1][j]);\n",
    "                    case4=max(seq);\n",
    "                F[i][j]=max(case1,case2,case3,case4);\n",
    "                \n",
    "            else:\n",
    "                F[i][j]=0\n",
    "    return F\n",
    "def traceback (s, rna, i, j, tb):\n",
    "    if i < j:\n",
    "        if s[i][j] == s[i + 1][j - 1] + bases2(i-1, j-1):\n",
    "            if bases2(i-1, j-1)==1:\n",
    "                tb[i-1]='('\n",
    "                tb[j-1]=')'\n",
    "                l.append(i)\n",
    "                l.append(j)\n",
    "            traceback(s, rna, i + 1, j - 1, tb)\n",
    "        elif s[i][j] == s[i + 1][j]:\n",
    "            traceback(s, rna, i + 1, j, tb)\n",
    "        elif s[i][j] == s[i][j - 1]:\n",
    "            traceback(s, rna, i, j - 1, tb)\n",
    "        else:\n",
    "            for k in range(i+1, j):\n",
    "                if s[i][j] == s[i][k] + s[k + 1][j]:\n",
    "                    traceback(s, rna, i, k, tb)\n",
    "                    traceback(s, rna, k + 1, j, tb)\n",
    "                    break\n",
    "    return tb\n",
    "s=Num_nussing(rna)   \n",
    "tb=[]\n",
    "l = []\n",
    "for i in range(len(rna)):\n",
    "    tb.append('.')\n",
    "tb=traceback(s,rna,1,len(rna),tb)\n",
    "print(*l, sep = ' ')\n",
    "#print(*tb)"
   ]
  },
  {
   "cell_type": "code",
   "execution_count": null,
   "id": "da7c8bb1-8860-4607-854c-704e98785940",
   "metadata": {},
   "outputs": [],
   "source": []
  }
 ],
 "metadata": {
  "kernelspec": {
   "display_name": "Python 3 (ipykernel)",
   "language": "python",
   "name": "python3"
  },
  "language_info": {
   "codemirror_mode": {
    "name": "ipython",
    "version": 3
   },
   "file_extension": ".py",
   "mimetype": "text/x-python",
   "name": "python",
   "nbconvert_exporter": "python",
   "pygments_lexer": "ipython3",
   "version": "3.9.13"
  }
 },
 "nbformat": 4,
 "nbformat_minor": 5
}
