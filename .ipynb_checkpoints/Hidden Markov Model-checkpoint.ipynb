{
 "cells": [
  {
   "cell_type": "markdown",
   "id": "6bf11b85-6d75-441d-a592-5d3575202d6d",
   "metadata": {},
   "source": [
    "![image.png](images/HMM1.png)"
   ]
  },
  {
   "cell_type": "markdown",
   "id": "2e7462f2-330f-45df-a966-6c6060aa9248",
   "metadata": {},
   "source": [
    "You are given an observed sequence of nucleotides. Output the probability of emitting this sequence in a given model. Your answer should differ from correct no more than 1e-10.\n",
    "\n",
    "**Sample Input:**\n",
    "\n",
    "ATCG\n",
    "\n",
    "**Sample Output:**\n",
    "\n",
    "0.0036420000"
   ]
  },
  {
   "cell_type": "code",
   "execution_count": 7,
   "id": "62d65289-6a7a-4fcc-91e6-059ce43a30b5",
   "metadata": {},
   "outputs": [
    {
     "name": "stdin",
     "output_type": "stream",
     "text": [
      " ATCG\n"
     ]
    },
    {
     "name": "stdout",
     "output_type": "stream",
     "text": [
      "0.0036420000000000003\n"
     ]
    }
   ],
   "source": [
    "states=('Promoter', 'Non-promoter')\n",
    "starting_probability={'Promoter':0.5, 'Non-promoter':0.5}\n",
    "obs=('C', 'G', 'A', 'T')\n",
    "transition_probability={'Promoter': {'Promoter': 0.9, 'Non-promoter': 0.1}, 'Non-promoter':{'Non-promoter':0.8, 'Promoter':0.2}}\n",
    "emission_probability={'Promoter':{'C':0.4, 'G':0.4, 'A':0.1, 'T':0.1}, 'Non-promoter':{'C':0.2, 'G':0.2, 'A':0.3, 'T':0.3}}\n",
    "seq=list(input())\n",
    "Alfa_P=[0]*len(seq)\n",
    "Alfa_N=[0]*len(seq)\n",
    "Alfa_P[0]=starting_probability['Promoter']*emission_probability['Promoter'][seq[0]]\n",
    "Alfa_N[0]=starting_probability['Non-promoter']*emission_probability['Non-promoter'][seq[0]]\n",
    "for i in range(1,len(Alfa_P)):\n",
    "    Alfa_P[i]=Alfa_P[i-1]*transition_probability['Promoter']['Promoter']*emission_probability['Promoter'][seq[i]]+Alfa_N[i-1]*transition_probability['Non-promoter']['Promoter']*emission_probability['Promoter'][seq[i]]\n",
    "    Alfa_N[i]=Alfa_P[i-1]*transition_probability['Promoter']['Non-promoter']*emission_probability['Non-promoter'][seq[i]]+Alfa_N[i-1]*transition_probability['Non-promoter']['Non-promoter']*emission_probability['Non-promoter'][seq[i]]\n",
    "answer=Alfa_P[-1]+Alfa_N[-1]\n",
    "print(answer)\n"
   ]
  },
  {
   "cell_type": "markdown",
   "id": "8db555b8-e7f7-42d7-9d13-8b550e7f051d",
   "metadata": {},
   "source": [
    "![image.png](images/HMM2.png)"
   ]
  },
  {
   "cell_type": "markdown",
   "id": "18003a40-7aca-48b7-bb0f-d9d05599e6b9",
   "metadata": {},
   "source": [
    "You are given an observed sequence of nucleotides. Output the most probable sequence of hidden variables using Viterbi algorithm. Output 'P' for promoter state and 'N' for non-promoter state.\n",
    "\n",
    "**Sample Input:**\n",
    "\n",
    "ATCG\n",
    "\n",
    "**Sample Output:**\n",
    "\n",
    "NNPP"
   ]
  },
  {
   "cell_type": "code",
   "execution_count": 13,
   "id": "1b44986f-96dc-4e2f-8b15-78814e8d64b7",
   "metadata": {},
   "outputs": [
    {
     "name": "stdin",
     "output_type": "stream",
     "text": [
      " ATCG\n"
     ]
    },
    {
     "name": "stdout",
     "output_type": "stream",
     "text": [
      "NNPP\n"
     ]
    }
   ],
   "source": [
    "states=('Promoter', 'Non-promoter')\n",
    "starting_probability={'Promoter':0.5, 'Non-promoter':0.5}\n",
    "obs=('C', 'G', 'A', 'T')\n",
    "hidden=[]\n",
    "fi_P=[]\n",
    "fi_N=[]\n",
    "transition_probability={'Promoter': {'Promoter': 0.9, 'Non-promoter': 0.1}, 'Non-promoter':{'Non-promoter':0.8, 'Promoter':0.2}}\n",
    "emission_probability={'Promoter':{'C':0.4, 'G':0.4, 'A':0.1, 'T':0.1}, 'Non-promoter':{'C':0.2, 'G':0.2, 'A':0.3, 'T':0.3}}\n",
    "seq=list(input())\n",
    "Delta_P=[0]*len(seq)\n",
    "Delta_N=[0]*len(seq)\n",
    "Delta_P[0]=0.5*emission_probability['Promoter'][seq[0]]\n",
    "Delta_N[0]=0.5*emission_probability['Non-promoter'][seq[0]]\n",
    "for i in range(1, len(seq)):\n",
    "    a=Delta_P[i-1]*transition_probability['Promoter']['Promoter']*emission_probability['Promoter'][seq[i]]\n",
    "    b=Delta_N[i-1]*transition_probability['Non-promoter']['Promoter']*emission_probability['Promoter'][seq[i]]\n",
    "    c=Delta_P[i-1]*transition_probability['Promoter']['Non-promoter']*emission_probability['Non-promoter'][seq[i]]\n",
    "    d=Delta_N[i-1]*transition_probability['Non-promoter']['Non-promoter']*emission_probability['Non-promoter'][seq[i]]\n",
    "    Delta_P[i]=max(a,b)\n",
    "    Delta_N[i]=max(c,d)  \n",
    "    if a>b:\n",
    "        fi_P.append('P')\n",
    "    else:\n",
    "        fi_P.append('N')\n",
    "    if c>d:\n",
    "        fi_N.append('P')\n",
    "    else:\n",
    "        fi_N.append('N')    \n",
    "    #Delta_P[i]=max(Delta_P[i-1]*transition_probability['Promoter']['Promoter']*emission_probability['Promoter'][seq[i]], Delta_N[i-1]*transition_probability['Non-promoter']['Promoter']*emission_probability['Promoter'][seq[i]])\n",
    "    #Delta_N[i]=max(Delta_P[i-1]*transition_probability['Promoter']['Non-promoter']*emission_probability['Non-promoter'][seq[i]], Delta_N[i-1]*transition_probability['Non-promoter']['Non-promoter']*emission_probability['Non-promoter'][seq[i]])\n",
    "if Delta_P[-1]>Delta_N[-1]:\n",
    "    hidden.append('P')\n",
    "else: \n",
    "    hidden.append('N')\n",
    "for i in range(1, len(fi_P)+1):\n",
    "    if hidden[-1]=='P':\n",
    "        hidden.append(fi_P[-i])\n",
    "    elif hidden[-1]=='N':\n",
    "        hidden.append(fi_N[-i])   \n",
    "print(''.join(reversed(hidden)))"
   ]
  },
  {
   "cell_type": "code",
   "execution_count": null,
   "id": "f009c6a6-0639-4e7e-baa2-f41187987a76",
   "metadata": {},
   "outputs": [],
   "source": []
  }
 ],
 "metadata": {
  "kernelspec": {
   "display_name": "Python 3 (ipykernel)",
   "language": "python",
   "name": "python3"
  },
  "language_info": {
   "codemirror_mode": {
    "name": "ipython",
    "version": 3
   },
   "file_extension": ".py",
   "mimetype": "text/x-python",
   "name": "python",
   "nbconvert_exporter": "python",
   "pygments_lexer": "ipython3",
   "version": "3.9.13"
  }
 },
 "nbformat": 4,
 "nbformat_minor": 5
}
